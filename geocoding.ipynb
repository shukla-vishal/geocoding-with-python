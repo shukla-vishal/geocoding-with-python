{
  "nbformat": 4,
  "nbformat_minor": 0,
  "metadata": {
    "colab": {
      "name": "geocoding.ipynb",
      "provenance": [],
      "collapsed_sections": [],
      "authorship_tag": "ABX9TyOCah9YWHKQ6u+7Cvou7W+S",
      "include_colab_link": true
    },
    "kernelspec": {
      "name": "python3",
      "display_name": "Python 3"
    }
  },
  "cells": [
    {
      "cell_type": "markdown",
      "metadata": {
        "id": "view-in-github",
        "colab_type": "text"
      },
      "source": [
        "<a href=\"https://colab.research.google.com/github/shukla-vishal/geocoding-with-python/blob/master/geocoding.ipynb\" target=\"_parent\"><img src=\"https://colab.research.google.com/assets/colab-badge.svg\" alt=\"Open In Colab\"/></a>"
      ]
    },
    {
      "cell_type": "code",
      "metadata": {
        "id": "sBrVtfjlxRDq",
        "colab_type": "code",
        "colab": {
          "base_uri": "https://localhost:8080/",
          "height": 34
        },
        "outputId": "2790a6e5-e33e-485b-b54c-e921e65fe885"
      },
      "source": [
        "pip install pyproj"
      ],
      "execution_count": null,
      "outputs": [
        {
          "output_type": "stream",
          "text": [
            "Requirement already satisfied: pyproj in /usr/local/lib/python3.6/dist-packages (2.6.1.post1)\n"
          ],
          "name": "stdout"
        }
      ]
    },
    {
      "cell_type": "code",
      "metadata": {
        "id": "U-U-t7p31F_3",
        "colab_type": "code",
        "colab": {
          "base_uri": "https://localhost:8080/",
          "height": 252
        },
        "outputId": "1d03c3e4-e995-4d19-e9ec-83fb6764b241"
      },
      "source": [
        "pip install geopandas"
      ],
      "execution_count": null,
      "outputs": [
        {
          "output_type": "stream",
          "text": [
            "Requirement already satisfied: geopandas in /usr/local/lib/python3.6/dist-packages (0.7.0)\n",
            "Requirement already satisfied: fiona in /usr/local/lib/python3.6/dist-packages (from geopandas) (1.8.13.post1)\n",
            "Requirement already satisfied: pyproj>=2.2.0 in /usr/local/lib/python3.6/dist-packages (from geopandas) (2.6.1.post1)\n",
            "Requirement already satisfied: pandas>=0.23.0 in /usr/local/lib/python3.6/dist-packages (from geopandas) (1.0.5)\n",
            "Requirement already satisfied: shapely in /usr/local/lib/python3.6/dist-packages (from geopandas) (1.7.0)\n",
            "Requirement already satisfied: click<8,>=4.0 in /usr/local/lib/python3.6/dist-packages (from fiona->geopandas) (7.1.2)\n",
            "Requirement already satisfied: munch in /usr/local/lib/python3.6/dist-packages (from fiona->geopandas) (2.5.0)\n",
            "Requirement already satisfied: attrs>=17 in /usr/local/lib/python3.6/dist-packages (from fiona->geopandas) (19.3.0)\n",
            "Requirement already satisfied: cligj>=0.5 in /usr/local/lib/python3.6/dist-packages (from fiona->geopandas) (0.5.0)\n",
            "Requirement already satisfied: click-plugins>=1.0 in /usr/local/lib/python3.6/dist-packages (from fiona->geopandas) (1.1.1)\n",
            "Requirement already satisfied: six>=1.7 in /usr/local/lib/python3.6/dist-packages (from fiona->geopandas) (1.12.0)\n",
            "Requirement already satisfied: python-dateutil>=2.6.1 in /usr/local/lib/python3.6/dist-packages (from pandas>=0.23.0->geopandas) (2.8.1)\n",
            "Requirement already satisfied: numpy>=1.13.3 in /usr/local/lib/python3.6/dist-packages (from pandas>=0.23.0->geopandas) (1.18.5)\n",
            "Requirement already satisfied: pytz>=2017.2 in /usr/local/lib/python3.6/dist-packages (from pandas>=0.23.0->geopandas) (2018.9)\n"
          ],
          "name": "stdout"
        }
      ]
    },
    {
      "cell_type": "code",
      "metadata": {
        "id": "g3hTXmfZ1KNB",
        "colab_type": "code",
        "colab": {}
      },
      "source": [
        "import pandas as pd\n",
        "import geopandas as gpd\n",
        "from geopandas.tools import geocode\n",
        "import lxml"
      ],
      "execution_count": null,
      "outputs": []
    },
    {
      "cell_type": "code",
      "metadata": {
        "id": "5fEofB431e1-",
        "colab_type": "code",
        "colab": {
          "base_uri": "https://localhost:8080/",
          "height": 1000
        },
        "outputId": "acbcc696-dece-452a-9f09-36210b2edabe"
      },
      "source": [
        "data=pd.read_html(\"https://en.wikipedia.org/wiki/List_of_national_parks_of_India\")\n",
        "data"
      ],
      "execution_count": null,
      "outputs": [
        {
          "output_type": "execute_result",
          "data": {
            "text/plain": [
              "[                                                   0\n",
              " 0                            Part of a series on the\n",
              " 1                                  Wildlife of India\n",
              " 2  Biodiversity Flora Fauna Lists Amphibians Ants...\n",
              " 3  Protected areas Biosphere reserves Wildlife sa...\n",
              " 4  Conservation Projects Tiger Elephant Acts of P...\n",
              " 5  Organisations National Ministry of Environment...\n",
              " 6  Related topics Indian natural history Environm...\n",
              " 7                                                vte,\n",
              "                                 Name  ... Rivers and lakes inside the national park\n",
              " 0     Anamudi Shola National Park[1]  ...                                       NaN\n",
              " 1                Anshi National Park  ...                    Kali River (Karnataka)\n",
              " 2           Balphakram National Park  ...                                       NaN\n",
              " 3          Bandhavgarh National Park  ...                                       NaN\n",
              " 4             Bandipur National Park  ...                 Kabini River, Moyar River\n",
              " ..                               ...  ...                                       ...\n",
              " 99              Tadoba National Park  ...                                       NaN\n",
              " 100  Valley of Flowers National Park  ...                                       NaN\n",
              " 101            Valmiki National Park  ...                                       NaN\n",
              " 102             Vansda National Park  ...                                       NaN\n",
              " 103          Van Vihar National Park  ...                                       NaN\n",
              " \n",
              " [104 rows x 6 columns],\n",
              "     0                                                  1\n",
              " 0 NaN  Wikimedia Commons has media related to Nationa...,\n",
              "     0                                                  1\n",
              " 0 NaN  Wikivoyage has a travel guide for Indian Natio...,\n",
              "                                      vte India topics                                 vte India topics.1\n",
              " 0   HistoryOverviews Timeline Years Astronomy Clot...  HistoryOverviews Timeline Years Astronomy Clot...\n",
              " 1                                             History                                            History\n",
              " 2   Overviews Timeline Years Astronomy Clothing Co...  Overviews Timeline Years Astronomy Clothing Co...\n",
              " 3                                           Overviews  Timeline Years Astronomy Clothing Coinage Econ...\n",
              " 4                                        Pre-colonial  Stone Age Indus Valley Civilization Vedic peri...\n",
              " 5                                    ColonialPrincely  East India Company Plassey 1857 rebellion Brit...\n",
              " 6                                            Republic  Integration Non-Aligned Movement Five-Year Pla...\n",
              " 7   GeographyEnvironment Biosphere reserves Climat...  GeographyEnvironment Biosphere reserves Climat...\n",
              " 8                                           Geography                                          Geography\n",
              " 9   Environment Biosphere reserves Climate Earthqu...  Environment Biosphere reserves Climate Earthqu...\n",
              " 10                                        Environment  Biosphere reserves Climate Earthquakes Ecoregi...\n",
              " 11                                          Landforms  Beaches Desert Extreme points Glaciers Islands...\n",
              " 12                                            Regions                    East North Northeast South West\n",
              " 13                                       Subdivisions  Autonomous administrative divisions Cities Dis...\n",
              " 14  PoliticsGovernment Agencies Energy policy Fore...  PoliticsGovernment Agencies Energy policy Fore...\n",
              " 15                                           Politics                                           Politics\n",
              " 16  Government Agencies Energy policy Foreign rela...  Government Agencies Energy policy Foreign rela...\n",
              " 17                                         Government  Agencies Energy policy Foreign relations Parli...\n",
              " 18                                                Law  Constitution Penal Code Fundamental rights, pr...\n",
              " 19  Constitution Penal Code Fundamental rights, pr...  Constitution Penal Code Fundamental rights, pr...\n",
              " 20                                        Enforcement  Federal Border Security Force (BSF) Central In...\n",
              " 21                                            Federal  Border Security Force (BSF) Central Industrial...\n",
              " 22                                       Intelligence  Bureau of Police Research and Development (BPR...\n",
              " 23                                           Military                                Army Navy Air Force\n",
              " 24                                           Politics  Censorship Elections Nationalism Political par...\n",
              " 25  EconomyCompanies BSE SENSEX CNX Nifty Governme...  EconomyCompanies BSE SENSEX CNX Nifty Governme...\n",
              " 26                                            Economy                                            Economy\n",
              " 27  Companies BSE SENSEX CNX Nifty Government-owne...  Companies BSE SENSEX CNX Nifty Government-owne...\n",
              " 28                                          Companies  BSE SENSEX CNX Nifty Government-owned companie...\n",
              " 29                                         Governance  Ministry of Finance Finance ministers Ministry...\n",
              " 30                                           Currency  Indian rupee History Historical exchange rates...\n",
              " 31                                 Financial services  Banking Banks Insurance Foreign exchange reser...\n",
              " 32                                            History  Economic Development Economic liberalisation L...\n",
              " 33                                             People  Billionaires Businesspeople Demography Income ...\n",
              " 34                                             States  Andhra Pradesh Assam Bihar Goa Gujarat Haryana...\n",
              " 35                                            Sectors  Agriculture Livestock Fishing Automotive Defen...\n",
              " 36  SocietyCultureSociety Caste system Corruption ...  SocietyCultureSociety Caste system Corruption ...\n",
              " 37                                     SocietyCulture                                     SocietyCulture\n",
              " 38  Society Caste system Corruption Demographics W...  Society Caste system Corruption Demographics W...\n",
              " 39                                            Society  Caste system Corruption Demographics Women Edu...\n",
              " 40                                            Culture  Arts and entertainment Architecture Blogging C...,\n",
              "                                              History                                          History.1\n",
              " 0  Overviews Timeline Years Astronomy Clothing Co...  Overviews Timeline Years Astronomy Clothing Co...\n",
              " 1                                          Overviews  Timeline Years Astronomy Clothing Coinage Econ...\n",
              " 2                                       Pre-colonial  Stone Age Indus Valley Civilization Vedic peri...\n",
              " 3                                   ColonialPrincely  East India Company Plassey 1857 rebellion Brit...\n",
              " 4                                           Republic  Integration Non-Aligned Movement Five-Year Pla...,\n",
              "                   0                                                  1\n",
              " 0         Overviews  Timeline Years Astronomy Clothing Coinage Econ...\n",
              " 1      Pre-colonial  Stone Age Indus Valley Civilization Vedic peri...\n",
              " 2  ColonialPrincely  East India Company Plassey 1857 rebellion Brit...\n",
              " 3          Republic  Integration Non-Aligned Movement Five-Year Pla...,\n",
              "                                            Geography                                        Geography.1\n",
              " 0  Environment Biosphere reserves Climate Earthqu...  Environment Biosphere reserves Climate Earthqu...\n",
              " 1                                        Environment  Biosphere reserves Climate Earthquakes Ecoregi...\n",
              " 2                                          Landforms  Beaches Desert Extreme points Glaciers Islands...\n",
              " 3                                            Regions                    East North Northeast South West\n",
              " 4                                       Subdivisions  Autonomous administrative divisions Cities Dis...,\n",
              "               0                                                  1\n",
              " 0   Environment  Biosphere reserves Climate Earthquakes Ecoregi...\n",
              " 1     Landforms  Beaches Desert Extreme points Glaciers Islands...\n",
              " 2       Regions                    East North Northeast South West\n",
              " 3  Subdivisions  Autonomous administrative divisions Cities Dis...,\n",
              "                                             Politics                                         Politics.1\n",
              " 0  Government Agencies Energy policy Foreign rela...  Government Agencies Energy policy Foreign rela...\n",
              " 1                                         Government  Agencies Energy policy Foreign relations Parli...\n",
              " 2                                                Law  Constitution Penal Code Fundamental rights, pr...\n",
              " 3  Constitution Penal Code Fundamental rights, pr...  Constitution Penal Code Fundamental rights, pr...\n",
              " 4                                        Enforcement  Federal Border Security Force (BSF) Central In...\n",
              " 5                                            Federal  Border Security Force (BSF) Central Industrial...\n",
              " 6                                       Intelligence  Bureau of Police Research and Development (BPR...\n",
              " 7                                           Military                                Army Navy Air Force\n",
              " 8                                           Politics  Censorship Elections Nationalism Political par...,\n",
              "                                                    0                                                  1\n",
              " 0                                         Government  Agencies Energy policy Foreign relations Parli...\n",
              " 1                                                Law  Constitution Penal Code Fundamental rights, pr...\n",
              " 2  Constitution Penal Code Fundamental rights, pr...  Constitution Penal Code Fundamental rights, pr...\n",
              " 3                                        Enforcement  Federal Border Security Force (BSF) Central In...\n",
              " 4                                            Federal  Border Security Force (BSF) Central Industrial...\n",
              " 5                                       Intelligence  Bureau of Police Research and Development (BPR...\n",
              " 6                                           Military                                Army Navy Air Force\n",
              " 7                                           Politics  Censorship Elections Nationalism Political par...,\n",
              "                                                    0                                                  1\n",
              " 0  Constitution Penal Code Fundamental rights, pr...  Constitution Penal Code Fundamental rights, pr...\n",
              " 1                                        Enforcement  Federal Border Security Force (BSF) Central In...\n",
              " 2                                            Federal  Border Security Force (BSF) Central Industrial...\n",
              " 3                                       Intelligence  Bureau of Police Research and Development (BPR...,\n",
              "               0                                                  1\n",
              " 0       Federal  Border Security Force (BSF) Central Industrial...\n",
              " 1  Intelligence  Bureau of Police Research and Development (BPR...,\n",
              "                                              Economy                                          Economy.1\n",
              " 0  Companies BSE SENSEX CNX Nifty Government-owne...  Companies BSE SENSEX CNX Nifty Government-owne...\n",
              " 1                                          Companies  BSE SENSEX CNX Nifty Government-owned companie...\n",
              " 2                                         Governance  Ministry of Finance Finance ministers Ministry...\n",
              " 3                                           Currency  Indian rupee History Historical exchange rates...\n",
              " 4                                 Financial services  Banking Banks Insurance Foreign exchange reser...\n",
              " 5                                            History  Economic Development Economic liberalisation L...\n",
              " 6                                             People  Billionaires Businesspeople Demography Income ...\n",
              " 7                                             States  Andhra Pradesh Assam Bihar Goa Gujarat Haryana...\n",
              " 8                                            Sectors  Agriculture Livestock Fishing Automotive Defen...,\n",
              "                     0                                                  1\n",
              " 0           Companies  BSE SENSEX CNX Nifty Government-owned companie...\n",
              " 1          Governance  Ministry of Finance Finance ministers Ministry...\n",
              " 2            Currency  Indian rupee History Historical exchange rates...\n",
              " 3  Financial services  Banking Banks Insurance Foreign exchange reser...\n",
              " 4             History  Economic Development Economic liberalisation L...\n",
              " 5              People  Billionaires Businesspeople Demography Income ...\n",
              " 6              States  Andhra Pradesh Assam Bihar Goa Gujarat Haryana...\n",
              " 7             Sectors  Agriculture Livestock Fishing Automotive Defen...,\n",
              "                                       SocietyCulture                                   SocietyCulture.1\n",
              " 0  Society Caste system Corruption Demographics W...  Society Caste system Corruption Demographics W...\n",
              " 1                                            Society  Caste system Corruption Demographics Women Edu...\n",
              " 2                                            Culture  Arts and entertainment Architecture Blogging C...,\n",
              "          0                                                  1\n",
              " 0  Society  Caste system Corruption Demographics Women Edu...\n",
              " 1  Culture  Arts and entertainment Architecture Blogging C...,\n",
              "                            vteNational parks of India  ...                       vteNational parks of India.2\n",
              " 0   Protected areas of India Ministry of Environme...  ...  Protected areas of India Ministry of Environme...\n",
              " 1   Andaman &Nicobar Islands Campbell Bay Galathea...  ...                                                NaN\n",
              " 2                            Andaman &Nicobar Islands  ...                                                NaN\n",
              " 3                                      Andhra Pradesh  ...                                                NaN\n",
              " 4                                   Arunachal Pradesh  ...                                                NaN\n",
              " 5                                               Assam  ...                                                NaN\n",
              " 6                                               Bihar  ...                                                NaN\n",
              " 7                                        Chhattisgarh  ...                                                NaN\n",
              " 8                                                 Goa  ...                                                NaN\n",
              " 9                                             Gujarat  ...                                                NaN\n",
              " 10                                            Haryana  ...                                                NaN\n",
              " 11                                   Himachal Pradesh  ...                                                NaN\n",
              " 12                                    Jammu & Kashmir  ...                                                NaN\n",
              " 13                                            Laddakh  ...                                                NaN\n",
              " 14                                          Jharkhand  ...                                                NaN\n",
              " 15                                          Karnataka  ...                                                NaN\n",
              " 16                                             Kerala  ...                                                NaN\n",
              " 17                                     Madhya Pradesh  ...                                                NaN\n",
              " 18                                        Maharashtra  ...                                                NaN\n",
              " 19                                            Manipur  ...                                                NaN\n",
              " 20                                          Meghalaya  ...                                                NaN\n",
              " 21  Mizoram Murlen Phawngpui Dampa Tiger Reserve N...  ...                                                NaN\n",
              " 22                                            Mizoram  ...                                                NaN\n",
              " 23                                           Nagaland  ...                                                NaN\n",
              " 24                                             Odisha  ...                                                NaN\n",
              " 25                                          Rajasthan  ...                                                NaN\n",
              " 26                                             Sikkim  ...                                                NaN\n",
              " 27                                         Tamil Nadu  ...                                                NaN\n",
              " 28                                          Telangana  ...                                                NaN\n",
              " 29                                            Tripura  ...                                                NaN\n",
              " 30                                      Uttar Pradesh  ...                                                NaN\n",
              " 31                                        Uttarakhand  ...                                                NaN\n",
              " 32                                        West Bengal  ...                                                NaN\n",
              " 33                                           Category  ...                                           Category\n",
              " \n",
              " [34 rows x 3 columns],\n",
              "                            0                                                  1\n",
              " 0   Andaman &Nicobar Islands  Campbell Bay Galathea Mahatma Gandhi Middle Bu...\n",
              " 1             Andhra Pradesh                         Sri Venkateswara Papikonda\n",
              " 2          Arunachal Pradesh                                   Mouling Namdapha\n",
              " 3                      Assam        Dibru-Saikhowa Kaziranga Manas Nameri Orang\n",
              " 4                      Bihar                                            Valmiki\n",
              " 5               Chhattisgarh                             Indravati Kanger Ghati\n",
              " 6                        Goa                                             Mollem\n",
              " 7                    Gujarat                 Blackbuck Gir Gulf of Kutch Vansda\n",
              " 8                    Haryana                                  Kalesar Sultanpur\n",
              " 9           Himachal Pradesh               Great Himalayan Pin Valley Khirganga\n",
              " 10           Jammu & Kashmir          Dachigam Salim Ali National Park Kishtwar\n",
              " 11                   Laddakh                                              Hemis\n",
              " 12                 Jharkhand                                              Betla\n",
              " 13                 Karnataka              Anshi Bandipur Bannerghatta Nagarhole\n",
              " 14                    Kerala  Anamudi Shola Eravikulam Mathikettan Shola Pam...\n",
              " 15            Madhya Pradesh  Bandhavgarh Fossil Kanha Kuno Madhav Panna Pen...\n",
              " 16               Maharashtra  Chandoli Gilbert Hill Gugamal Karnala Navegaon...\n",
              " 17                   Manipur                               Keibul Lamjao Sirohi\n",
              " 18                 Meghalaya                                  Balphakram Nokrek,\n",
              "                 0                                                  1\n",
              " 0         Mizoram               Murlen Phawngpui Dampa Tiger Reserve\n",
              " 1        Nagaland                                           Intangki\n",
              " 2          Odisha                              Bhitarkanika Simlipal\n",
              " 3       Rajasthan        Darrah Desert Keoladeo Ranthambhore Sariska\n",
              " 4          Sikkim                                    Khangchendzonga\n",
              " 5      Tamil Nadu  Guindy Gulf of Mannar Anamalai Mudumalai Mukur...\n",
              " 6       Telangana  Kasu Brahmananda Reddy Mahavir Harina Vanastha...\n",
              " 7         Tripura                            Clouded Leopard Rajbari\n",
              " 8   Uttar Pradesh                                             Dudhwa\n",
              " 9     Uttarakhand  Jim Corbett Gangotri Govind Pashu Vihar Nanda ...\n",
              " 10    West Bengal  Buxa Gorumara Neora Valley Singalila Sundarban...,\n",
              "      vteGeography of India                            vteGeography of India.1\n",
              " 0                  Geology  Fossil Parks Geology of India Indian Plate Stones\n",
              " 1                Landforms  Beaches Canals Desert Extreme points Glaciers ...\n",
              " 2                  Regions  North India Northeast India East India South I...\n",
              " 3             Subdivisions  States and territories Autonomous areas Divisi...\n",
              " 4  Environment and climate  Biogeographic classification Ecoregions Fauna ...,\n",
              "   vte Tourism in India                             vte Tourism in India.1\n",
              " 0             By state  Andhra Pradesh Andaman and Nicobar Islands Ass...\n",
              " 1                Types  Beaches Hill stations Islands Lakes Medical to...\n",
              " 2        Organisations  India TDC Andhra Pradesh TDC Assam TDC Bihar S...\n",
              " 3             See also        Incredible India NEITM Visa policy of India\n",
              " 4    Category  Commons                                  Category  Commons,\n",
              "   vteList of national parks of Asia                vteList of national parks of Asia.1\n",
              " 0                  Sovereign states  Afghanistan Armenia Azerbaijan Bahrain Banglad...\n",
              " 1    States withlimited recognition  Abkhazia Artsakh Northern Cyprus Palestine Sou...\n",
              " 2       Book  Category  Asia portal                        Book  Category  Asia portal]"
            ]
          },
          "metadata": {
            "tags": []
          },
          "execution_count": 31
        }
      ]
    },
    {
      "cell_type": "code",
      "metadata": {
        "id": "Q-ipPLef-aTe",
        "colab_type": "code",
        "colab": {
          "base_uri": "https://localhost:8080/",
          "height": 34
        },
        "outputId": "a19453f6-e970-4079-d8f1-a6f2e5de1856"
      },
      "source": [
        "type(data)"
      ],
      "execution_count": null,
      "outputs": [
        {
          "output_type": "execute_result",
          "data": {
            "text/plain": [
              "pandas.core.frame.DataFrame"
            ]
          },
          "metadata": {
            "tags": []
          },
          "execution_count": 39
        }
      ]
    },
    {
      "cell_type": "code",
      "metadata": {
        "id": "Ct9NIweN2G6L",
        "colab_type": "code",
        "colab": {
          "base_uri": "https://localhost:8080/",
          "height": 402
        },
        "outputId": "045945ac-ab96-4dd2-c15a-3e2e22fdf953"
      },
      "source": [
        "data=data[1]\n",
        "data"
      ],
      "execution_count": null,
      "outputs": [
        {
          "output_type": "execute_result",
          "data": {
            "text/html": [
              "<div>\n",
              "<style scoped>\n",
              "    .dataframe tbody tr th:only-of-type {\n",
              "        vertical-align: middle;\n",
              "    }\n",
              "\n",
              "    .dataframe tbody tr th {\n",
              "        vertical-align: top;\n",
              "    }\n",
              "\n",
              "    .dataframe thead th {\n",
              "        text-align: right;\n",
              "    }\n",
              "</style>\n",
              "<table border=\"1\" class=\"dataframe\">\n",
              "  <thead>\n",
              "    <tr style=\"text-align: right;\">\n",
              "      <th></th>\n",
              "      <th>Name</th>\n",
              "      <th>State</th>\n",
              "      <th>Established</th>\n",
              "      <th>Area (in km2)</th>\n",
              "      <th>Notability</th>\n",
              "      <th>Rivers and lakes inside the national park</th>\n",
              "    </tr>\n",
              "  </thead>\n",
              "  <tbody>\n",
              "    <tr>\n",
              "      <th>0</th>\n",
              "      <td>Anamudi Shola National Park[1]</td>\n",
              "      <td>Kerala</td>\n",
              "      <td>2003</td>\n",
              "      <td>7.50</td>\n",
              "      <td>NaN</td>\n",
              "      <td>NaN</td>\n",
              "    </tr>\n",
              "    <tr>\n",
              "      <th>1</th>\n",
              "      <td>Anshi National Park</td>\n",
              "      <td>Karnataka</td>\n",
              "      <td>1987</td>\n",
              "      <td>417.34</td>\n",
              "      <td>Great hornbill, tiger, leopard, black panther,...</td>\n",
              "      <td>Kali River (Karnataka)</td>\n",
              "    </tr>\n",
              "    <tr>\n",
              "      <th>2</th>\n",
              "      <td>Balphakram National Park</td>\n",
              "      <td>Meghalaya</td>\n",
              "      <td>1986</td>\n",
              "      <td>220.00</td>\n",
              "      <td>Wild water buffalo, red panda, elephant and ei...</td>\n",
              "      <td>NaN</td>\n",
              "    </tr>\n",
              "    <tr>\n",
              "      <th>3</th>\n",
              "      <td>Bandhavgarh National Park</td>\n",
              "      <td>Madhya Pradesh</td>\n",
              "      <td>1982</td>\n",
              "      <td>446.00</td>\n",
              "      <td>1336 species of endemic plants</td>\n",
              "      <td>NaN</td>\n",
              "    </tr>\n",
              "    <tr>\n",
              "      <th>4</th>\n",
              "      <td>Bandipur National Park</td>\n",
              "      <td>Karnataka</td>\n",
              "      <td>1974</td>\n",
              "      <td>874.20</td>\n",
              "      <td>Chital, Bengal tiger, gray langurs, Indian gia...</td>\n",
              "      <td>Kabini River, Moyar River</td>\n",
              "    </tr>\n",
              "    <tr>\n",
              "      <th>...</th>\n",
              "      <td>...</td>\n",
              "      <td>...</td>\n",
              "      <td>...</td>\n",
              "      <td>...</td>\n",
              "      <td>...</td>\n",
              "      <td>...</td>\n",
              "    </tr>\n",
              "    <tr>\n",
              "      <th>99</th>\n",
              "      <td>Tadoba National Park</td>\n",
              "      <td>Maharashtra</td>\n",
              "      <td>1955</td>\n",
              "      <td>625.00</td>\n",
              "      <td>Tiger</td>\n",
              "      <td>NaN</td>\n",
              "    </tr>\n",
              "    <tr>\n",
              "      <th>100</th>\n",
              "      <td>Valley of Flowers National Park</td>\n",
              "      <td>Uttarakhand</td>\n",
              "      <td>1982</td>\n",
              "      <td>87.50</td>\n",
              "      <td>UNESCO World Heritage Site</td>\n",
              "      <td>NaN</td>\n",
              "    </tr>\n",
              "    <tr>\n",
              "      <th>101</th>\n",
              "      <td>Valmiki National Park</td>\n",
              "      <td>Bihar</td>\n",
              "      <td>1976</td>\n",
              "      <td>898.45</td>\n",
              "      <td>NaN</td>\n",
              "      <td>NaN</td>\n",
              "    </tr>\n",
              "    <tr>\n",
              "      <th>102</th>\n",
              "      <td>Vansda National Park</td>\n",
              "      <td>Gujarat</td>\n",
              "      <td>1979</td>\n",
              "      <td>23.99</td>\n",
              "      <td>NaN</td>\n",
              "      <td>NaN</td>\n",
              "    </tr>\n",
              "    <tr>\n",
              "      <th>103</th>\n",
              "      <td>Van Vihar National Park</td>\n",
              "      <td>Madhya Pradesh</td>\n",
              "      <td>1983</td>\n",
              "      <td>4.48</td>\n",
              "      <td>NaN</td>\n",
              "      <td>NaN</td>\n",
              "    </tr>\n",
              "  </tbody>\n",
              "</table>\n",
              "<p>104 rows × 6 columns</p>\n",
              "</div>"
            ],
            "text/plain": [
              "                                Name  ... Rivers and lakes inside the national park\n",
              "0     Anamudi Shola National Park[1]  ...                                       NaN\n",
              "1                Anshi National Park  ...                    Kali River (Karnataka)\n",
              "2           Balphakram National Park  ...                                       NaN\n",
              "3          Bandhavgarh National Park  ...                                       NaN\n",
              "4             Bandipur National Park  ...                 Kabini River, Moyar River\n",
              "..                               ...  ...                                       ...\n",
              "99              Tadoba National Park  ...                                       NaN\n",
              "100  Valley of Flowers National Park  ...                                       NaN\n",
              "101            Valmiki National Park  ...                                       NaN\n",
              "102             Vansda National Park  ...                                       NaN\n",
              "103          Van Vihar National Park  ...                                       NaN\n",
              "\n",
              "[104 rows x 6 columns]"
            ]
          },
          "metadata": {
            "tags": []
          },
          "execution_count": 32
        }
      ]
    },
    {
      "cell_type": "code",
      "metadata": {
        "id": "zw4RnzV23Edb",
        "colab_type": "code",
        "colab": {
          "base_uri": "https://localhost:8080/",
          "height": 235
        },
        "outputId": "23599696-4528-4baf-bf85-7572f24e8f0a"
      },
      "source": [
        "data.info()"
      ],
      "execution_count": null,
      "outputs": [
        {
          "output_type": "stream",
          "text": [
            "<class 'pandas.core.frame.DataFrame'>\n",
            "RangeIndex: 104 entries, 0 to 103\n",
            "Data columns (total 6 columns):\n",
            " #   Column                                     Non-Null Count  Dtype  \n",
            "---  ------                                     --------------  -----  \n",
            " 0   Name                                       104 non-null    object \n",
            " 1   State                                      104 non-null    object \n",
            " 2   Established                                104 non-null    int64  \n",
            " 3   Area (in km2)                              104 non-null    float64\n",
            " 4   Notability                                 49 non-null     object \n",
            " 5   Rivers and lakes inside the national park  12 non-null     object \n",
            "dtypes: float64(1), int64(1), object(4)\n",
            "memory usage: 5.0+ KB\n"
          ],
          "name": "stdout"
        }
      ]
    },
    {
      "cell_type": "code",
      "metadata": {
        "id": "js_P-pl651Rk",
        "colab_type": "code",
        "colab": {}
      },
      "source": [
        "data_cleaned=data.drop(columns=['Notability', 'Rivers and lakes inside the national park'])"
      ],
      "execution_count": null,
      "outputs": []
    },
    {
      "cell_type": "code",
      "metadata": {
        "id": "re8jMXz7_Gjl",
        "colab_type": "code",
        "colab": {
          "base_uri": "https://localhost:8080/",
          "height": 1000
        },
        "outputId": "85d17b3f-d51b-42b2-c6c0-de854580ad0a"
      },
      "source": [
        "for index, row in data_cleaned.iterrows():\n",
        "  print (row['Name'])\n",
        "  info= geocode(str(row['Name']), provider='arcgis', timeout=10)\n",
        "  #data_cleaned.loc[int(index), 'Address']= info['address'].loc[0]\n",
        "  data_cleaned.loc[int(index), 'lon']=info['geometry'].loc[0].x\n",
        "  data_cleaned.loc[int(index), 'lat']=info['geometry'].loc[0].y"
      ],
      "execution_count": null,
      "outputs": [
        {
          "output_type": "stream",
          "text": [
            "Anamudi Shola National Park[1]\n",
            "Anshi National Park\n",
            "Balphakram National Park\n",
            "Bandhavgarh National Park\n",
            "Bandipur National Park\n",
            "Bannerghatta National Park\n",
            "Betla National Park\n",
            "Bhitarkanika National Park\n",
            "Bison (Rajbari) National Park\n",
            "Blackbuck National Park, Velavadar\n",
            "Buxa Tiger Reserve\n",
            "Campbell Bay National Park\n",
            "Chandoli National Park\n",
            "Clouded Leopard National Park\n",
            "Dachigam National Park\n",
            "Desert National Park\n",
            "Dibru-Saikhowa National Park\n",
            "Dudhwa National Park\n",
            "Eravikulam National Park\n",
            "Galathea National Park\n",
            "Gangotri National Park\n",
            "Gir Forest National Park\n",
            "Gorumara National Park\n",
            "Govind Pashu Vihar National Park\n",
            "Great Himalayan National Park\n",
            "Gugamal National Park\n",
            "Guindy National Park\n",
            "Gulf of Mannar Marine National Park\n",
            "Guru Ghasidas (Sanjay) National Park\n",
            "Hemis National Park\n",
            "Inderkilla National Park\n",
            "Indra Gandhi Wildlife Sanctuary and National Park\n",
            "Indravati National Park\n",
            "Jaldapara National Park\n",
            "Jim Corbett National Park\n",
            "Kalesar National Park\n",
            "Kanha National Park\n",
            "Kanger Ghati National Park\n",
            "Kasu Brahmananda Reddy National Park\n",
            "Kaziranga National Park\n",
            "Keibul Lamjao National Park\n",
            "Keoladeo National Park\n",
            "Khangchendzonga National Park\n",
            "Khirganga National Park\n",
            "Kishtwar National Park\n",
            "Kudremukh National Park\n",
            "Kuno National Park\n",
            "Madhav National Park\n",
            "Mahatma Gandhi Marine National Park\n",
            "Mahavir Harina Vanasthali National Park\n",
            "Manas National Park\n",
            "Mandla Plant Fossils National Park\n",
            "Marine National Park, Gulf of Kutch\n",
            "Mathikettan Shola National Park\n",
            "Middle Button Island National Park\n",
            "Mollem National Park\n",
            "Mouling National Park\n",
            "Mount Harriet National Park\n",
            "Mrugavani National Park\n",
            "Mudumalai National Park\n",
            "Mukundra Hills National Park\n",
            "Mukurthi National Park\n",
            "Murlen National Park\n",
            "Nagarhole National Park\n",
            "Namdapha National Park\n",
            "Nameri National Park\n",
            "Nanda Devi National Park\n",
            "Navegaon National Park\n",
            "Neora Valley National Park\n",
            "Nokrek National Park\n",
            "North Button Island National Park\n",
            "Ntangki National Park\n",
            "Orang National Park\n",
            "Pambadum Shola National Park\n",
            "Panna National Park\n",
            "Papikonda National Park\n",
            "Pench National Park[3]\n",
            "Periyar National Park\n",
            "Phawngpui Blue Mountain National Park\n",
            "Pin Valley National Park\n",
            "Rajaji National Park\n",
            "Rajiv Gandhi National Park (Rameswaram)\n",
            "Rani Jhansi Marine National Park\n",
            "Ranthambore National Park\n",
            "Saddle Peak National Park\n",
            "Salim Ali National Park\n",
            "Sanjay National Park[4]\n",
            "Sanjay Gandhi National Park\n",
            "Sariska Tiger Reserve\n",
            "Satpura National Park\n",
            "Silent Valley National Park\n",
            "Simbalbara National Park\n",
            "Sirohi National Park\n",
            "Simlipal National Park\n",
            "Singalila National Park\n",
            "South Button Island National Park\n",
            "Sri Venkateswara National Park\n",
            "Sultanpur National Park\n",
            "Sundarbans National Park\n",
            "Tadoba National Park\n",
            "Valley of Flowers National Park\n",
            "Valmiki National Park\n",
            "Vansda National Park\n",
            "Van Vihar National Park\n"
          ],
          "name": "stdout"
        }
      ]
    },
    {
      "cell_type": "code",
      "metadata": {
        "id": "vDNH8FWF_5gJ",
        "colab_type": "code",
        "colab": {
          "base_uri": "https://localhost:8080/",
          "height": 402
        },
        "outputId": "581b6d75-5155-4d53-9b46-f6229a5e3946"
      },
      "source": [
        "data_cleaned"
      ],
      "execution_count": null,
      "outputs": [
        {
          "output_type": "execute_result",
          "data": {
            "text/html": [
              "<div>\n",
              "<style scoped>\n",
              "    .dataframe tbody tr th:only-of-type {\n",
              "        vertical-align: middle;\n",
              "    }\n",
              "\n",
              "    .dataframe tbody tr th {\n",
              "        vertical-align: top;\n",
              "    }\n",
              "\n",
              "    .dataframe thead th {\n",
              "        text-align: right;\n",
              "    }\n",
              "</style>\n",
              "<table border=\"1\" class=\"dataframe\">\n",
              "  <thead>\n",
              "    <tr style=\"text-align: right;\">\n",
              "      <th></th>\n",
              "      <th>Name</th>\n",
              "      <th>State</th>\n",
              "      <th>Established</th>\n",
              "      <th>Area (in km2)</th>\n",
              "      <th>lon</th>\n",
              "      <th>lat</th>\n",
              "    </tr>\n",
              "  </thead>\n",
              "  <tbody>\n",
              "    <tr>\n",
              "      <th>0</th>\n",
              "      <td>Anamudi Shola National Park[1]</td>\n",
              "      <td>Kerala</td>\n",
              "      <td>2003</td>\n",
              "      <td>7.50</td>\n",
              "      <td>83.944163</td>\n",
              "      <td>28.259138</td>\n",
              "    </tr>\n",
              "    <tr>\n",
              "      <th>1</th>\n",
              "      <td>Anshi National Park</td>\n",
              "      <td>Karnataka</td>\n",
              "      <td>1987</td>\n",
              "      <td>417.34</td>\n",
              "      <td>74.356370</td>\n",
              "      <td>15.009660</td>\n",
              "    </tr>\n",
              "    <tr>\n",
              "      <th>2</th>\n",
              "      <td>Balphakram National Park</td>\n",
              "      <td>Meghalaya</td>\n",
              "      <td>1986</td>\n",
              "      <td>220.00</td>\n",
              "      <td>90.643750</td>\n",
              "      <td>25.214990</td>\n",
              "    </tr>\n",
              "    <tr>\n",
              "      <th>3</th>\n",
              "      <td>Bandhavgarh National Park</td>\n",
              "      <td>Madhya Pradesh</td>\n",
              "      <td>1982</td>\n",
              "      <td>446.00</td>\n",
              "      <td>81.024580</td>\n",
              "      <td>23.723190</td>\n",
              "    </tr>\n",
              "    <tr>\n",
              "      <th>4</th>\n",
              "      <td>Bandipur National Park</td>\n",
              "      <td>Karnataka</td>\n",
              "      <td>1974</td>\n",
              "      <td>874.20</td>\n",
              "      <td>76.597600</td>\n",
              "      <td>11.723090</td>\n",
              "    </tr>\n",
              "    <tr>\n",
              "      <th>...</th>\n",
              "      <td>...</td>\n",
              "      <td>...</td>\n",
              "      <td>...</td>\n",
              "      <td>...</td>\n",
              "      <td>...</td>\n",
              "      <td>...</td>\n",
              "    </tr>\n",
              "    <tr>\n",
              "      <th>99</th>\n",
              "      <td>Tadoba National Park</td>\n",
              "      <td>Maharashtra</td>\n",
              "      <td>1955</td>\n",
              "      <td>625.00</td>\n",
              "      <td>79.465040</td>\n",
              "      <td>20.234600</td>\n",
              "    </tr>\n",
              "    <tr>\n",
              "      <th>100</th>\n",
              "      <td>Valley of Flowers National Park</td>\n",
              "      <td>Uttarakhand</td>\n",
              "      <td>1982</td>\n",
              "      <td>87.50</td>\n",
              "      <td>79.587080</td>\n",
              "      <td>30.725130</td>\n",
              "    </tr>\n",
              "    <tr>\n",
              "      <th>101</th>\n",
              "      <td>Valmiki National Park</td>\n",
              "      <td>Bihar</td>\n",
              "      <td>1976</td>\n",
              "      <td>898.45</td>\n",
              "      <td>83.961610</td>\n",
              "      <td>27.351110</td>\n",
              "    </tr>\n",
              "    <tr>\n",
              "      <th>102</th>\n",
              "      <td>Vansda National Park</td>\n",
              "      <td>Gujarat</td>\n",
              "      <td>1979</td>\n",
              "      <td>23.99</td>\n",
              "      <td>73.486050</td>\n",
              "      <td>20.763680</td>\n",
              "    </tr>\n",
              "    <tr>\n",
              "      <th>103</th>\n",
              "      <td>Van Vihar National Park</td>\n",
              "      <td>Madhya Pradesh</td>\n",
              "      <td>1983</td>\n",
              "      <td>4.48</td>\n",
              "      <td>77.363670</td>\n",
              "      <td>23.222820</td>\n",
              "    </tr>\n",
              "  </tbody>\n",
              "</table>\n",
              "<p>104 rows × 6 columns</p>\n",
              "</div>"
            ],
            "text/plain": [
              "                                Name           State  ...        lon        lat\n",
              "0     Anamudi Shola National Park[1]          Kerala  ...  83.944163  28.259138\n",
              "1                Anshi National Park       Karnataka  ...  74.356370  15.009660\n",
              "2           Balphakram National Park       Meghalaya  ...  90.643750  25.214990\n",
              "3          Bandhavgarh National Park  Madhya Pradesh  ...  81.024580  23.723190\n",
              "4             Bandipur National Park       Karnataka  ...  76.597600  11.723090\n",
              "..                               ...             ...  ...        ...        ...\n",
              "99              Tadoba National Park     Maharashtra  ...  79.465040  20.234600\n",
              "100  Valley of Flowers National Park     Uttarakhand  ...  79.587080  30.725130\n",
              "101            Valmiki National Park           Bihar  ...  83.961610  27.351110\n",
              "102             Vansda National Park         Gujarat  ...  73.486050  20.763680\n",
              "103          Van Vihar National Park  Madhya Pradesh  ...  77.363670  23.222820\n",
              "\n",
              "[104 rows x 6 columns]"
            ]
          },
          "metadata": {
            "tags": []
          },
          "execution_count": 52
        }
      ]
    },
    {
      "cell_type": "code",
      "metadata": {
        "id": "w_Y9tqa0Ctbs",
        "colab_type": "code",
        "colab": {}
      },
      "source": [
        "data_cleaned.to_csv('national_park.csv')"
      ],
      "execution_count": null,
      "outputs": []
    },
    {
      "cell_type": "code",
      "metadata": {
        "id": "A4f_aKZ0EoL0",
        "colab_type": "code",
        "colab": {
          "base_uri": "https://localhost:8080/",
          "height": 866
        },
        "outputId": "8ec4bba6-21fb-4eb5-c2c9-1cc7aa251678"
      },
      "source": [
        "import os\n",
        "import folium\n",
        "\n",
        "popup= [names for names in data_cleaned['Name']]\n",
        "#popup\n",
        "\n",
        "from folium.plugins import MarkerCluster\n",
        "locations = list(zip(data_cleaned['lat'], data_cleaned['lon']))\n",
        "m = folium.Map(location=[25.00, 90.00], zoom_start=5)\n",
        "marker_cluster =  MarkerCluster(\n",
        "    locations=locations, popups=popup,\n",
        "    overlay=True,\n",
        "    control=True,\n",
        "    #icon_create_function=icon_create_function\n",
        ")\n",
        "marker_cluster.add_to(m)\n",
        "m"
      ],
      "execution_count": null,
      "outputs": [
        {
          "output_type": "execute_result",
          "data": {
            "text/html": [
              "<div style=\"width:100%;\"><div style=\"position:relative;width:100%;height:0;padding-bottom:60%;\"><span style=\"color:#565656\">Make this Notebook Trusted to load map: File -> Trust Notebook</span><iframe src=\"about:blank\" style=\"position:absolute;width:100%;height:100%;left:0;top:0;border:none !important;\" data-html=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 onload=\"this.contentDocument.open();this.contentDocument.write(atob(this.getAttribute('data-html')));this.contentDocument.close();\" allowfullscreen webkitallowfullscreen mozallowfullscreen></iframe></div></div>"
            ],
            "text/plain": [
              "<folium.folium.Map at 0x7f3afeee8780>"
            ]
          },
          "metadata": {
            "tags": []
          },
          "execution_count": 73
        }
      ]
    },
    {
      "cell_type": "code",
      "metadata": {
        "id": "9COvNz35DU3t",
        "colab_type": "code",
        "colab": {
          "base_uri": "https://localhost:8080/",
          "height": 121
        },
        "outputId": "8755223f-bcb4-407d-9cde-9b552c23aac6"
      },
      "source": [
        "pip install pyproj"
      ],
      "execution_count": null,
      "outputs": [
        {
          "output_type": "stream",
          "text": [
            "Collecting pyproj\n",
            "\u001b[?25l  Downloading https://files.pythonhosted.org/packages/e5/c3/071e080230ac4b6c64f1a2e2f9161c9737a2bc7b683d2c90b024825000c0/pyproj-2.6.1.post1-cp36-cp36m-manylinux2010_x86_64.whl (10.9MB)\n",
            "\u001b[K     |████████████████████████████████| 10.9MB 2.0MB/s \n",
            "\u001b[?25hInstalling collected packages: pyproj\n",
            "Successfully installed pyproj-2.6.1.post1\n"
          ],
          "name": "stdout"
        }
      ]
    },
    {
      "cell_type": "code",
      "metadata": {
        "id": "oNaN-e4LDioW",
        "colab_type": "code",
        "colab": {
          "base_uri": "https://localhost:8080/",
          "height": 403
        },
        "outputId": "1bc19b1f-26c4-4d4c-b280-10e686c9ea1e"
      },
      "source": [
        "pip install geopandas"
      ],
      "execution_count": null,
      "outputs": [
        {
          "output_type": "stream",
          "text": [
            "Collecting geopandas\n",
            "\u001b[?25l  Downloading https://files.pythonhosted.org/packages/83/c5/3cf9cdc39a6f2552922f79915f36b45a95b71fd343cfc51170a5b6ddb6e8/geopandas-0.7.0-py2.py3-none-any.whl (928kB)\n",
            "\u001b[K     |████████████████████████████████| 931kB 2.7MB/s \n",
            "\u001b[?25hRequirement already satisfied: pandas>=0.23.0 in /usr/local/lib/python3.6/dist-packages (from geopandas) (1.0.5)\n",
            "Collecting fiona\n",
            "\u001b[?25l  Downloading https://files.pythonhosted.org/packages/ec/20/4e63bc5c6e62df889297b382c3ccd4a7a488b00946aaaf81a118158c6f09/Fiona-1.8.13.post1-cp36-cp36m-manylinux1_x86_64.whl (14.7MB)\n",
            "\u001b[K     |████████████████████████████████| 14.7MB 314kB/s \n",
            "\u001b[?25hRequirement already satisfied: shapely in /usr/local/lib/python3.6/dist-packages (from geopandas) (1.7.0)\n",
            "Requirement already satisfied: pyproj>=2.2.0 in /usr/local/lib/python3.6/dist-packages (from geopandas) (2.6.1.post1)\n",
            "Requirement already satisfied: python-dateutil>=2.6.1 in /usr/local/lib/python3.6/dist-packages (from pandas>=0.23.0->geopandas) (2.8.1)\n",
            "Requirement already satisfied: numpy>=1.13.3 in /usr/local/lib/python3.6/dist-packages (from pandas>=0.23.0->geopandas) (1.18.5)\n",
            "Requirement already satisfied: pytz>=2017.2 in /usr/local/lib/python3.6/dist-packages (from pandas>=0.23.0->geopandas) (2018.9)\n",
            "Collecting click-plugins>=1.0\n",
            "  Downloading https://files.pythonhosted.org/packages/e9/da/824b92d9942f4e472702488857914bdd50f73021efea15b4cad9aca8ecef/click_plugins-1.1.1-py2.py3-none-any.whl\n",
            "Requirement already satisfied: attrs>=17 in /usr/local/lib/python3.6/dist-packages (from fiona->geopandas) (19.3.0)\n",
            "Requirement already satisfied: click<8,>=4.0 in /usr/local/lib/python3.6/dist-packages (from fiona->geopandas) (7.1.2)\n",
            "Collecting munch\n",
            "  Downloading https://files.pythonhosted.org/packages/cc/ab/85d8da5c9a45e072301beb37ad7f833cd344e04c817d97e0cc75681d248f/munch-2.5.0-py2.py3-none-any.whl\n",
            "Collecting cligj>=0.5\n",
            "  Downloading https://files.pythonhosted.org/packages/e4/be/30a58b4b0733850280d01f8bd132591b4668ed5c7046761098d665ac2174/cligj-0.5.0-py3-none-any.whl\n",
            "Requirement already satisfied: six>=1.7 in /usr/local/lib/python3.6/dist-packages (from fiona->geopandas) (1.12.0)\n",
            "Installing collected packages: click-plugins, munch, cligj, fiona, geopandas\n",
            "Successfully installed click-plugins-1.1.1 cligj-0.5.0 fiona-1.8.13.post1 geopandas-0.7.0 munch-2.5.0\n"
          ],
          "name": "stdout"
        }
      ]
    },
    {
      "cell_type": "code",
      "metadata": {
        "id": "I0t758EpDqWx",
        "colab_type": "code",
        "colab": {}
      },
      "source": [
        "import pandas as pd\n",
        "import geopandas as gpd\n",
        "from geopandas.tools import geocode\n",
        "import lxml"
      ],
      "execution_count": null,
      "outputs": []
    },
    {
      "cell_type": "code",
      "metadata": {
        "id": "Tpsv2yfjER15",
        "colab_type": "code",
        "colab": {}
      },
      "source": [
        "data=pd.read_html(\"https://en.wikipedia.org/wiki/Bird_sanctuaries_of_India\")"
      ],
      "execution_count": null,
      "outputs": []
    },
    {
      "cell_type": "code",
      "metadata": {
        "id": "Ej4qFViGEbZn",
        "colab_type": "code",
        "colab": {
          "base_uri": "https://localhost:8080/",
          "height": 286
        },
        "outputId": "091a4dd7-1bb4-4e78-de15-f85fff189ada"
      },
      "source": [
        "data"
      ],
      "execution_count": null,
      "outputs": [
        {
          "output_type": "execute_result",
          "data": {
            "text/plain": [
              "[    0                                                  1\n",
              " 0 NaN  This article is an orphan, as no other article...,\n",
              "     Sl No                                         Name           State\n",
              " 0       1                       Atapaka Bird Sanctuary  Andhra Pradesh\n",
              " 1       2                     Nelapattu Bird Sanctuary  Andhra Pradesh\n",
              " 2       3                  Pulicat Lake Bird Sanctuary  Andhra Pradesh\n",
              " 3       4    Sri Penusila Narasimha Wildlife Sanctuary  Andhra Pradesh\n",
              " 4       5                    Uppalapadu Bird Sanctuary  Andhra Pradesh\n",
              " ..    ...                                          ...             ...\n",
              " 56     57           Kulik Bird Sanctuary (Raiganj WLS)     West Bengal\n",
              " 57     58                     Rasikbill Bird Sanctuary     West Bengal\n",
              " 58     59  Thasrana Bird Sanctuary (Dhanauri Wetlands)   Uttar Pradesh\n",
              " 59     60                       Wachana Bird Sanctuary         Gujarat\n",
              " 60     61            Nandur Madhmeshwar Bird Sanctuary     Maharashtra\n",
              " \n",
              " [61 rows x 3 columns]]"
            ]
          },
          "metadata": {
            "tags": []
          },
          "execution_count": 6
        }
      ]
    },
    {
      "cell_type": "code",
      "metadata": {
        "id": "SGfV9UFjEfDB",
        "colab_type": "code",
        "colab": {
          "base_uri": "https://localhost:8080/",
          "height": 402
        },
        "outputId": "e78b7f2b-373d-458a-9067-250c807394d4"
      },
      "source": [
        "data=data[1]\n",
        "data"
      ],
      "execution_count": null,
      "outputs": [
        {
          "output_type": "execute_result",
          "data": {
            "text/html": [
              "<div>\n",
              "<style scoped>\n",
              "    .dataframe tbody tr th:only-of-type {\n",
              "        vertical-align: middle;\n",
              "    }\n",
              "\n",
              "    .dataframe tbody tr th {\n",
              "        vertical-align: top;\n",
              "    }\n",
              "\n",
              "    .dataframe thead th {\n",
              "        text-align: right;\n",
              "    }\n",
              "</style>\n",
              "<table border=\"1\" class=\"dataframe\">\n",
              "  <thead>\n",
              "    <tr style=\"text-align: right;\">\n",
              "      <th></th>\n",
              "      <th>Sl No</th>\n",
              "      <th>Name</th>\n",
              "      <th>State</th>\n",
              "    </tr>\n",
              "  </thead>\n",
              "  <tbody>\n",
              "    <tr>\n",
              "      <th>0</th>\n",
              "      <td>1</td>\n",
              "      <td>Atapaka Bird Sanctuary</td>\n",
              "      <td>Andhra Pradesh</td>\n",
              "    </tr>\n",
              "    <tr>\n",
              "      <th>1</th>\n",
              "      <td>2</td>\n",
              "      <td>Nelapattu Bird Sanctuary</td>\n",
              "      <td>Andhra Pradesh</td>\n",
              "    </tr>\n",
              "    <tr>\n",
              "      <th>2</th>\n",
              "      <td>3</td>\n",
              "      <td>Pulicat Lake Bird Sanctuary</td>\n",
              "      <td>Andhra Pradesh</td>\n",
              "    </tr>\n",
              "    <tr>\n",
              "      <th>3</th>\n",
              "      <td>4</td>\n",
              "      <td>Sri Penusila Narasimha Wildlife Sanctuary</td>\n",
              "      <td>Andhra Pradesh</td>\n",
              "    </tr>\n",
              "    <tr>\n",
              "      <th>4</th>\n",
              "      <td>5</td>\n",
              "      <td>Uppalapadu Bird Sanctuary</td>\n",
              "      <td>Andhra Pradesh</td>\n",
              "    </tr>\n",
              "    <tr>\n",
              "      <th>...</th>\n",
              "      <td>...</td>\n",
              "      <td>...</td>\n",
              "      <td>...</td>\n",
              "    </tr>\n",
              "    <tr>\n",
              "      <th>56</th>\n",
              "      <td>57</td>\n",
              "      <td>Kulik Bird Sanctuary (Raiganj WLS)</td>\n",
              "      <td>West Bengal</td>\n",
              "    </tr>\n",
              "    <tr>\n",
              "      <th>57</th>\n",
              "      <td>58</td>\n",
              "      <td>Rasikbill Bird Sanctuary</td>\n",
              "      <td>West Bengal</td>\n",
              "    </tr>\n",
              "    <tr>\n",
              "      <th>58</th>\n",
              "      <td>59</td>\n",
              "      <td>Thasrana Bird Sanctuary (Dhanauri Wetlands)</td>\n",
              "      <td>Uttar Pradesh</td>\n",
              "    </tr>\n",
              "    <tr>\n",
              "      <th>59</th>\n",
              "      <td>60</td>\n",
              "      <td>Wachana Bird Sanctuary</td>\n",
              "      <td>Gujarat</td>\n",
              "    </tr>\n",
              "    <tr>\n",
              "      <th>60</th>\n",
              "      <td>61</td>\n",
              "      <td>Nandur Madhmeshwar Bird Sanctuary</td>\n",
              "      <td>Maharashtra</td>\n",
              "    </tr>\n",
              "  </tbody>\n",
              "</table>\n",
              "<p>61 rows × 3 columns</p>\n",
              "</div>"
            ],
            "text/plain": [
              "    Sl No                                         Name           State\n",
              "0       1                       Atapaka Bird Sanctuary  Andhra Pradesh\n",
              "1       2                     Nelapattu Bird Sanctuary  Andhra Pradesh\n",
              "2       3                  Pulicat Lake Bird Sanctuary  Andhra Pradesh\n",
              "3       4    Sri Penusila Narasimha Wildlife Sanctuary  Andhra Pradesh\n",
              "4       5                    Uppalapadu Bird Sanctuary  Andhra Pradesh\n",
              "..    ...                                          ...             ...\n",
              "56     57           Kulik Bird Sanctuary (Raiganj WLS)     West Bengal\n",
              "57     58                     Rasikbill Bird Sanctuary     West Bengal\n",
              "58     59  Thasrana Bird Sanctuary (Dhanauri Wetlands)   Uttar Pradesh\n",
              "59     60                       Wachana Bird Sanctuary         Gujarat\n",
              "60     61            Nandur Madhmeshwar Bird Sanctuary     Maharashtra\n",
              "\n",
              "[61 rows x 3 columns]"
            ]
          },
          "metadata": {
            "tags": []
          },
          "execution_count": 7
        }
      ]
    },
    {
      "cell_type": "code",
      "metadata": {
        "id": "lLO66ZfEEmFv",
        "colab_type": "code",
        "colab": {}
      },
      "source": [
        "data_cleaned=data.drop(columns=['Sl No'])"
      ],
      "execution_count": null,
      "outputs": []
    },
    {
      "cell_type": "code",
      "metadata": {
        "id": "LY7JoQP_Gpvr",
        "colab_type": "code",
        "colab": {
          "base_uri": "https://localhost:8080/",
          "height": 402
        },
        "outputId": "9394b8ed-4c23-4338-83a3-983a0873d3e8"
      },
      "source": [
        "data_cleaned"
      ],
      "execution_count": null,
      "outputs": [
        {
          "output_type": "execute_result",
          "data": {
            "text/html": [
              "<div>\n",
              "<style scoped>\n",
              "    .dataframe tbody tr th:only-of-type {\n",
              "        vertical-align: middle;\n",
              "    }\n",
              "\n",
              "    .dataframe tbody tr th {\n",
              "        vertical-align: top;\n",
              "    }\n",
              "\n",
              "    .dataframe thead th {\n",
              "        text-align: right;\n",
              "    }\n",
              "</style>\n",
              "<table border=\"1\" class=\"dataframe\">\n",
              "  <thead>\n",
              "    <tr style=\"text-align: right;\">\n",
              "      <th></th>\n",
              "      <th>Name</th>\n",
              "      <th>State</th>\n",
              "    </tr>\n",
              "  </thead>\n",
              "  <tbody>\n",
              "    <tr>\n",
              "      <th>0</th>\n",
              "      <td>Atapaka Bird Sanctuary</td>\n",
              "      <td>Andhra Pradesh</td>\n",
              "    </tr>\n",
              "    <tr>\n",
              "      <th>1</th>\n",
              "      <td>Nelapattu Bird Sanctuary</td>\n",
              "      <td>Andhra Pradesh</td>\n",
              "    </tr>\n",
              "    <tr>\n",
              "      <th>2</th>\n",
              "      <td>Pulicat Lake Bird Sanctuary</td>\n",
              "      <td>Andhra Pradesh</td>\n",
              "    </tr>\n",
              "    <tr>\n",
              "      <th>3</th>\n",
              "      <td>Sri Penusila Narasimha Wildlife Sanctuary</td>\n",
              "      <td>Andhra Pradesh</td>\n",
              "    </tr>\n",
              "    <tr>\n",
              "      <th>4</th>\n",
              "      <td>Uppalapadu Bird Sanctuary</td>\n",
              "      <td>Andhra Pradesh</td>\n",
              "    </tr>\n",
              "    <tr>\n",
              "      <th>...</th>\n",
              "      <td>...</td>\n",
              "      <td>...</td>\n",
              "    </tr>\n",
              "    <tr>\n",
              "      <th>56</th>\n",
              "      <td>Kulik Bird Sanctuary (Raiganj WLS)</td>\n",
              "      <td>West Bengal</td>\n",
              "    </tr>\n",
              "    <tr>\n",
              "      <th>57</th>\n",
              "      <td>Rasikbill Bird Sanctuary</td>\n",
              "      <td>West Bengal</td>\n",
              "    </tr>\n",
              "    <tr>\n",
              "      <th>58</th>\n",
              "      <td>Thasrana Bird Sanctuary (Dhanauri Wetlands)</td>\n",
              "      <td>Uttar Pradesh</td>\n",
              "    </tr>\n",
              "    <tr>\n",
              "      <th>59</th>\n",
              "      <td>Wachana Bird Sanctuary</td>\n",
              "      <td>Gujarat</td>\n",
              "    </tr>\n",
              "    <tr>\n",
              "      <th>60</th>\n",
              "      <td>Nandur Madhmeshwar Bird Sanctuary</td>\n",
              "      <td>Maharashtra</td>\n",
              "    </tr>\n",
              "  </tbody>\n",
              "</table>\n",
              "<p>61 rows × 2 columns</p>\n",
              "</div>"
            ],
            "text/plain": [
              "                                           Name           State\n",
              "0                        Atapaka Bird Sanctuary  Andhra Pradesh\n",
              "1                      Nelapattu Bird Sanctuary  Andhra Pradesh\n",
              "2                   Pulicat Lake Bird Sanctuary  Andhra Pradesh\n",
              "3     Sri Penusila Narasimha Wildlife Sanctuary  Andhra Pradesh\n",
              "4                     Uppalapadu Bird Sanctuary  Andhra Pradesh\n",
              "..                                          ...             ...\n",
              "56           Kulik Bird Sanctuary (Raiganj WLS)     West Bengal\n",
              "57                     Rasikbill Bird Sanctuary     West Bengal\n",
              "58  Thasrana Bird Sanctuary (Dhanauri Wetlands)   Uttar Pradesh\n",
              "59                       Wachana Bird Sanctuary         Gujarat\n",
              "60            Nandur Madhmeshwar Bird Sanctuary     Maharashtra\n",
              "\n",
              "[61 rows x 2 columns]"
            ]
          },
          "metadata": {
            "tags": []
          },
          "execution_count": 13
        }
      ]
    },
    {
      "cell_type": "code",
      "metadata": {
        "id": "BQSM-ZHHGqUv",
        "colab_type": "code",
        "colab": {
          "base_uri": "https://localhost:8080/",
          "height": 1000
        },
        "outputId": "b0bbba0b-89b6-4005-ef25-b2b1e4020de8"
      },
      "source": [
        "for index,row in data_cleaned.iterrows():\n",
        "  print(row['Name'])\n",
        "  info=geocode(str(row['Name']), provider='arcgis', timeout=10)\n",
        "  data_cleaned.loc[int(index), 'lon']=info['geometry'][0].x\n",
        "  data_cleaned.loc[int(index), 'lat']=info['geometry'][0].y"
      ],
      "execution_count": null,
      "outputs": [
        {
          "output_type": "stream",
          "text": [
            "Atapaka Bird Sanctuary\n",
            "Nelapattu Bird Sanctuary\n",
            "Pulicat Lake Bird Sanctuary\n",
            "Sri Penusila Narasimha Wildlife Sanctuary\n",
            "Uppalapadu Bird Sanctuary\n",
            "Najafgarh drain bird sanctuary\n",
            "Salim Ali Bird Sanctuary\n",
            "Gaga Wildlife Sanctuary\n",
            "Khijadiya Bird Sanctuary\n",
            "Kutch Bustard Sanctuary\n",
            "Nal Sarovar Bird Sanctuary\n",
            "Porbandar Bird Sanctuary\n",
            "Thol Lake\n",
            "Bhindawas Wildlife Sanctuary\n",
            "Khaparwas Wildlife Sanctuary\n",
            "Gamgul\n",
            "Attiveri Bird Sanctuary\n",
            "Bankapura\n",
            "Bankapura Peacock Sanctuary\n",
            "Bonal Bird Sanctuary\n",
            "Gudavi Bird Sanctuary\n",
            "Kaggaladu\n",
            "Kaggaladu Bird Sanctuary\n",
            "Magadi Bird Sanctuary\n",
            "Mandagadde Bird Sanctuary\n",
            "Puttenahalli Lake (Yelahanka)\n",
            "Ranganathittu Bird Sanctuary\n",
            "Kadalundi Bird Sanctuary\n",
            "Kumarakom Bird Sanctuary\n",
            "Mangalavanam Bird Sanctuary\n",
            "Pathiramanal\n",
            "Thattekad Bird Sanctuary\n",
            "Mayani Bird Sanctuary\n",
            "Karnala Bird Sanctuary\n",
            "Great Indian Bustard Sanctuary\n",
            "Lengteng Wildlife Sanctuary\n",
            "Chilika Lake\n",
            "Keoladeo National Park\n",
            "Tal Chhapar Sanctuary\n",
            "Chitrangudi Bird Sanctuary\n",
            "Kanjirankulam Bird Sanctuary\n",
            "Koothankulam Bird Sanctuary\n",
            "Suchindram Theroor Birds Sanctuary\n",
            "Udayamarthandapuram Bird Sanctuary\n",
            "Vedanthangal Bird Sanctuary\n",
            "Vellode Birds Sanctuary\n",
            "Vettangudi Bird Sanctuary\n",
            "Sarsai Nawar Wetland\n",
            "Lakh Bahosi Sanctuary\n",
            "Nawabganj Bird Sanctuary\n",
            "Okhla Sanctuary\n",
            "Patna Bird Sanctuary\n",
            "Saman Sanctuary\n",
            "Samaspur Sanctuary\n",
            "Sandi Bird Sanctuary\n",
            "Chintamoni Kar Bird Sanctuary\n",
            "Kulik Bird Sanctuary (Raiganj WLS)\n",
            "Rasikbill Bird Sanctuary\n",
            "Thasrana Bird Sanctuary (Dhanauri Wetlands)\n",
            "Wachana Bird Sanctuary\n",
            "Nandur Madhmeshwar Bird Sanctuary\n"
          ],
          "name": "stdout"
        }
      ]
    },
    {
      "cell_type": "code",
      "metadata": {
        "id": "DIxZ7ARrJCcD",
        "colab_type": "code",
        "colab": {
          "base_uri": "https://localhost:8080/",
          "height": 402
        },
        "outputId": "8a67f7a2-2620-43da-f329-a20f66555031"
      },
      "source": [
        "data_cleaned"
      ],
      "execution_count": null,
      "outputs": [
        {
          "output_type": "execute_result",
          "data": {
            "text/html": [
              "<div>\n",
              "<style scoped>\n",
              "    .dataframe tbody tr th:only-of-type {\n",
              "        vertical-align: middle;\n",
              "    }\n",
              "\n",
              "    .dataframe tbody tr th {\n",
              "        vertical-align: top;\n",
              "    }\n",
              "\n",
              "    .dataframe thead th {\n",
              "        text-align: right;\n",
              "    }\n",
              "</style>\n",
              "<table border=\"1\" class=\"dataframe\">\n",
              "  <thead>\n",
              "    <tr style=\"text-align: right;\">\n",
              "      <th></th>\n",
              "      <th>Name</th>\n",
              "      <th>State</th>\n",
              "      <th>lon</th>\n",
              "      <th>lat</th>\n",
              "    </tr>\n",
              "  </thead>\n",
              "  <tbody>\n",
              "    <tr>\n",
              "      <th>0</th>\n",
              "      <td>Atapaka Bird Sanctuary</td>\n",
              "      <td>Andhra Pradesh</td>\n",
              "      <td>81.23187</td>\n",
              "      <td>16.56687</td>\n",
              "    </tr>\n",
              "    <tr>\n",
              "      <th>1</th>\n",
              "      <td>Nelapattu Bird Sanctuary</td>\n",
              "      <td>Andhra Pradesh</td>\n",
              "      <td>79.95005</td>\n",
              "      <td>13.81235</td>\n",
              "    </tr>\n",
              "    <tr>\n",
              "      <th>2</th>\n",
              "      <td>Pulicat Lake Bird Sanctuary</td>\n",
              "      <td>Andhra Pradesh</td>\n",
              "      <td>-81.33059</td>\n",
              "      <td>41.63334</td>\n",
              "    </tr>\n",
              "    <tr>\n",
              "      <th>3</th>\n",
              "      <td>Sri Penusila Narasimha Wildlife Sanctuary</td>\n",
              "      <td>Andhra Pradesh</td>\n",
              "      <td>79.97443</td>\n",
              "      <td>14.45881</td>\n",
              "    </tr>\n",
              "    <tr>\n",
              "      <th>4</th>\n",
              "      <td>Uppalapadu Bird Sanctuary</td>\n",
              "      <td>Andhra Pradesh</td>\n",
              "      <td>-97.58408</td>\n",
              "      <td>32.91082</td>\n",
              "    </tr>\n",
              "    <tr>\n",
              "      <th>...</th>\n",
              "      <td>...</td>\n",
              "      <td>...</td>\n",
              "      <td>...</td>\n",
              "      <td>...</td>\n",
              "    </tr>\n",
              "    <tr>\n",
              "      <th>56</th>\n",
              "      <td>Kulik Bird Sanctuary (Raiganj WLS)</td>\n",
              "      <td>West Bengal</td>\n",
              "      <td>88.12007</td>\n",
              "      <td>25.63696</td>\n",
              "    </tr>\n",
              "    <tr>\n",
              "      <th>57</th>\n",
              "      <td>Rasikbill Bird Sanctuary</td>\n",
              "      <td>West Bengal</td>\n",
              "      <td>89.73576</td>\n",
              "      <td>26.41623</td>\n",
              "    </tr>\n",
              "    <tr>\n",
              "      <th>58</th>\n",
              "      <td>Thasrana Bird Sanctuary (Dhanauri Wetlands)</td>\n",
              "      <td>Uttar Pradesh</td>\n",
              "      <td>87.21867</td>\n",
              "      <td>25.10338</td>\n",
              "    </tr>\n",
              "    <tr>\n",
              "      <th>59</th>\n",
              "      <td>Wachana Bird Sanctuary</td>\n",
              "      <td>Gujarat</td>\n",
              "      <td>-61.18290</td>\n",
              "      <td>12.88999</td>\n",
              "    </tr>\n",
              "    <tr>\n",
              "      <th>60</th>\n",
              "      <td>Nandur Madhmeshwar Bird Sanctuary</td>\n",
              "      <td>Maharashtra</td>\n",
              "      <td>-97.58408</td>\n",
              "      <td>32.91082</td>\n",
              "    </tr>\n",
              "  </tbody>\n",
              "</table>\n",
              "<p>61 rows × 4 columns</p>\n",
              "</div>"
            ],
            "text/plain": [
              "                                           Name  ...       lat\n",
              "0                        Atapaka Bird Sanctuary  ...  16.56687\n",
              "1                      Nelapattu Bird Sanctuary  ...  13.81235\n",
              "2                   Pulicat Lake Bird Sanctuary  ...  41.63334\n",
              "3     Sri Penusila Narasimha Wildlife Sanctuary  ...  14.45881\n",
              "4                     Uppalapadu Bird Sanctuary  ...  32.91082\n",
              "..                                          ...  ...       ...\n",
              "56           Kulik Bird Sanctuary (Raiganj WLS)  ...  25.63696\n",
              "57                     Rasikbill Bird Sanctuary  ...  26.41623\n",
              "58  Thasrana Bird Sanctuary (Dhanauri Wetlands)  ...  25.10338\n",
              "59                       Wachana Bird Sanctuary  ...  12.88999\n",
              "60            Nandur Madhmeshwar Bird Sanctuary  ...  32.91082\n",
              "\n",
              "[61 rows x 4 columns]"
            ]
          },
          "metadata": {
            "tags": []
          },
          "execution_count": 21
        }
      ]
    },
    {
      "cell_type": "code",
      "metadata": {
        "id": "e16W_eLHKsW-",
        "colab_type": "code",
        "colab": {
          "base_uri": "https://localhost:8080/",
          "height": 866
        },
        "outputId": "47fcf007-0d37-433a-bdd7-9246e74740ed"
      },
      "source": [
        "import os\n",
        "import folium\n",
        "\n",
        "popup=[names for names in data_cleaned['Name']]\n",
        "from folium.plugins import MarkerCluster\n",
        "location=list(zip(data_cleaned['lat'],data_cleaned['lon']))\n",
        "m=folium.Map(location=[25,100], zoom_start=5)\n",
        "mark_cluster=MarkerCluster(\n",
        "    locations=location, \n",
        "    popups=popup, \n",
        "    overlay=True, \n",
        "    control=True\n",
        ")\n",
        "mark_cluster.add_to(m)\n",
        "m"
      ],
      "execution_count": null,
      "outputs": [
        {
          "output_type": "execute_result",
          "data": {
            "text/html": [
              "<div style=\"width:100%;\"><div style=\"position:relative;width:100%;height:0;padding-bottom:60%;\"><span style=\"color:#565656\">Make this Notebook Trusted to load map: File -> Trust Notebook</span><iframe src=\"about:blank\" style=\"position:absolute;width:100%;height:100%;left:0;top:0;border:none !important;\" data-html=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 onload=\"this.contentDocument.open();this.contentDocument.write(atob(this.getAttribute('data-html')));this.contentDocument.close();\" allowfullscreen webkitallowfullscreen mozallowfullscreen></iframe></div></div>"
            ],
            "text/plain": [
              "<folium.folium.Map at 0x7fa59be55278>"
            ]
          },
          "metadata": {
            "tags": []
          },
          "execution_count": 34
        }
      ]
    }
  ]
}